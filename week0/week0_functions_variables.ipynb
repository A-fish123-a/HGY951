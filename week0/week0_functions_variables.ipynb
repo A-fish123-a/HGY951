{
  "nbformat": 4,
  "nbformat_minor": 0,
  "metadata": {
    "colab": {
      "provenance": []
    },
    "kernelspec": {
      "name": "python3",
      "display_name": "Python 3"
    },
    "language_info": {
      "name": "python"
    }
  },
  "cells": [
    {
      "cell_type": "markdown",
      "source": [
        "def 和 return 運用"
      ],
      "metadata": {
        "id": "4M0H-tn3cYrT"
      }
    },
    {
      "cell_type": "code",
      "source": [
        "def 打招呼(名字):\n",
        "    return f\"哈囉，{名字}！\"\n",
        "print(打招呼(\"袽貽\"))\n",
        "# 輸出結果：哈囉，袽貽！"
      ],
      "metadata": {
        "colab": {
          "base_uri": "https://localhost:8080/"
        },
        "id": "km2YGTxVQsJB",
        "outputId": "99d47dba-fbb2-42b5-fe1c-1ab19d084b02"
      },
      "execution_count": 1,
      "outputs": [
        {
          "output_type": "stream",
          "name": "stdout",
          "text": [
            "哈囉，袽貽！\n"
          ]
        }
      ]
    }
  ]
}