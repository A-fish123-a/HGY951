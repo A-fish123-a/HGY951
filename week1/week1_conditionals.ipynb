{
  "nbformat": 4,
  "nbformat_minor": 0,
  "metadata": {
    "colab": {
      "provenance": []
    },
    "kernelspec": {
      "name": "python3",
      "display_name": "Python 3"
    },
    "language_info": {
      "name": "python"
    }
  },
  "cells": [
    {
      "cell_type": "markdown",
      "source": [
        "# 電商網站：訂單狀態判斷\n",
        "使用：if/elif/else 根據不同的訂單狀態給予回應\n"
      ],
      "metadata": {
        "id": "i7WIxgYImaGp"
      }
    },
    {
      "cell_type": "code",
      "execution_count": 3,
      "metadata": {
        "colab": {
          "base_uri": "https://localhost:8080/"
        },
        "id": "hV1fIm7Yjl2z",
        "outputId": "266f87c8-53e1-447a-d7cd-b4756528b484"
      },
      "outputs": [
        {
          "output_type": "stream",
          "name": "stdout",
          "text": [
            "訂單已發送\n"
          ]
        }
      ],
      "source": [
        "status = \"已出貨\"\n",
        "\n",
        "if status == \"已出貨\":\n",
        "    print(\"訂單已發送\")\n",
        "elif status == \"待出貨\":\n",
        "    print(\"正在準備您的商品\")\n",
        "else:\n",
        "    print(\"狀態未知，請聯絡客服\")"
      ]
    },
    {
      "cell_type": "markdown",
      "source": [
        "# 行事曆提醒程式：判斷今天是否需要提醒\n",
        "使用：or 運算判斷是否是假日，bool 可用來處理原始資料是否為空。"
      ],
      "metadata": {
        "id": "8kuOPxGynBFO"
      }
    },
    {
      "cell_type": "code",
      "source": [
        "is_weekend = False\n",
        "is_holiday = False\n",
        "\n",
        "if is_weekend or is_holiday:\n",
        "    print(\"今天不用工作 🎉\")\n",
        "else:\n",
        "    print(\"記得準時上班！\")"
      ],
      "metadata": {
        "colab": {
          "base_uri": "https://localhost:8080/"
        },
        "id": "i4-fXgbbnAlZ",
        "outputId": "c6fff71e-91f1-4997-e9ef-d2e78a9c761c"
      },
      "execution_count": null,
      "outputs": [
        {
          "output_type": "stream",
          "name": "stdout",
          "text": [
            "記得準時上班！\n"
          ]
        }
      ]
    },
    {
      "cell_type": "markdown",
      "source": [
        "# 問卷系統：根據使用者回答呈現結果\n",
        "\n",
        "\n",
        "使用：match 語法讓條件判斷更簡潔、易讀。\n",
        "\n"
      ],
      "metadata": {
        "id": "pwI0amGPoIlI"
      }
    },
    {
      "cell_type": "code",
      "source": [
        "def evaluate_response(response):\n",
        "    match response:\n",
        "        case \"是\":\n",
        "            return \"感謝您的肯定！\"\n",
        "        case \"否\":\n",
        "            return \"我們會持續改進\"\n",
        "def main():\n",
        "    while True:\n",
        "        user_input = input(\"請輸入『是』或『否』：\")\n",
        "        reply = evaluate_response(user_input)\n",
        "        if reply:\n",
        "            print(reply)\n",
        "            break\n",
        "        else:\n",
        "            print(\"⚠️ 無效輸入，請重新輸入！\")\n",
        "\n",
        "if __name__ == \"__main__\":\n",
        "    main()"
      ],
      "metadata": {
        "colab": {
          "base_uri": "https://localhost:8080/"
        },
        "id": "vOgOQgo0olIq",
        "outputId": "95f71c1d-6c94-4123-e37b-c98b582c5bf1"
      },
      "execution_count": 15,
      "outputs": [
        {
          "output_type": "stream",
          "name": "stdout",
          "text": [
            "請輸入『是』或『否』： \n",
            "⚠️ 無效輸入，請重新輸入！\n",
            "請輸入『是』或『否』：是\n",
            "感謝您的肯定！\n"
          ]
        }
      ]
    },
    {
      "cell_type": "markdown",
      "source": [
        "# 環境監控程式：根據天氣與空氣品質給出建議\n",
        "\n",
        "\n",
        "🔎 使用：and 運算讓多個條件同時成立才觸發。\n"
      ],
      "metadata": {
        "id": "ajr4jFKtoZyP"
      }
    },
    {
      "cell_type": "code",
      "source": [
        "AQI = 85\n",
        "天氣 = \"晴天\"\n",
        "\n",
        "if AQI < 100 and 天氣 == \"晴天\":\n",
        "    print(\"適合外出散步\")\n",
        "else:\n",
        "    print(\"建議留在室內\")"
      ],
      "metadata": {
        "colab": {
          "base_uri": "https://localhost:8080/"
        },
        "id": "wXe7erP7olq-",
        "outputId": "13383a5f-c9a5-4aad-8699-7c742111a043"
      },
      "execution_count": 16,
      "outputs": [
        {
          "output_type": "stream",
          "name": "stdout",
          "text": [
            "適合外出散步\n"
          ]
        }
      ]
    }
  ]
}