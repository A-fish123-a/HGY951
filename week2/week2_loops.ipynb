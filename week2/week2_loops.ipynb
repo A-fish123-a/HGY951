{
  "nbformat": 4,
  "nbformat_minor": 0,
  "metadata": {
    "colab": {
      "provenance": []
    },
    "kernelspec": {
      "name": "python3",
      "display_name": "Python 3"
    },
    "language_info": {
      "name": "python"
    }
  },
  "cells": [
    {
      "cell_type": "markdown",
      "source": [
        "week2"
      ],
      "metadata": {
        "id": "cWN6kFPCau_3"
      }
    },
    {
      "cell_type": "code",
      "source": [
        "# while 迴圈範例\n",
        "i = 0\n",
        "while i < 3:\n",
        "    print(\"目前的 i 是：\", i)\n",
        "    i += 1\n",
        "\n",
        "# for 迴圈 + range 範例\n",
        "for x in range(3):\n",
        "    print(\"x 的值是：\", x)\n",
        "\n",
        "# continue 與 break 範例\n",
        "for y in range(5):\n",
        "    if y == 2:\n",
        "        continue  # 跳過 y = 2\n",
        "    if y == 4:\n",
        "        break     # 結束迴圈\n",
        "    print(\"y 是：\", y)"
      ],
      "metadata": {
        "colab": {
          "base_uri": "https://localhost:8080/"
        },
        "collapsed": true,
        "id": "Gbrpbu8MMohj",
        "outputId": "668f83a5-0b15-4b59-de63-b4ccf7c871b6"
      },
      "execution_count": null,
      "outputs": [
        {
          "output_type": "stream",
          "name": "stdout",
          "text": [
            "目前的 i 是： 0\n",
            "目前的 i 是： 1\n",
            "目前的 i 是： 2\n",
            "x 的值是： 0\n",
            "x 的值是： 1\n",
            "x 的值是： 2\n",
            "y 是： 0\n",
            "y 是： 1\n",
            "y 是： 3\n"
          ]
        }
      ]
    },
    {
      "cell_type": "code",
      "execution_count": 10,
      "metadata": {
        "colab": {
          "base_uri": "https://localhost:8080/"
        },
        "id": "L16vucruAnAP",
        "outputId": "78b345b7-798f-41b6-b305-1c90673bcab2"
      },
      "outputs": [
        {
          "output_type": "stream",
          "name": "stdout",
          "text": [
            "尚未設定結果\n"
          ]
        }
      ],
      "source": [
        "# None 範例\n",
        "result = None\n",
        "if result is None:\n",
        "    print(\"尚未設定結果\")"
      ]
    },
    {
      "cell_type": "code",
      "source": [
        "# list 範例\n",
        "my_list = [10, 20, 30]\n",
        "print(\"list 的長度是：\", len(my_list))\n",
        "\n",
        "# dict 範例\n",
        "my_dict = {\"台南\": \"南部\", \"台北\": \"北部\"}\n",
        "print(\"台南在：\", my_dict[\"台南\"])"
      ],
      "metadata": {
        "colab": {
          "base_uri": "https://localhost:8080/"
        },
        "id": "B_cWJPcvMALZ",
        "outputId": "a0096a0e-170a-41fe-c91a-d4d200e1400b"
      },
      "execution_count": 9,
      "outputs": [
        {
          "output_type": "stream",
          "name": "stdout",
          "text": [
            "list 的長度是： 3\n",
            "台南在： 南部\n"
          ]
        }
      ]
    }
  ]
}